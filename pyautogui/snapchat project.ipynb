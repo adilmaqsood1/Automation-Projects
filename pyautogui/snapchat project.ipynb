{
 "cells": [
  {
   "cell_type": "markdown",
   "id": "19ccb3f3",
   "metadata": {},
   "source": [
    "# Auto snaps sending in snapchat "
   ]
  },
  {
   "cell_type": "code",
   "execution_count": 1,
   "id": "a6e08991",
   "metadata": {},
   "outputs": [
    {
     "name": "stdout",
     "output_type": "stream",
     "text": [
      "1366 768\n"
     ]
    }
   ],
   "source": [
    "import pyautogui\n",
    "\n",
    "x, y = pyautogui.size()\n",
    "print(x,y)\n"
   ]
  },
  {
   "cell_type": "code",
   "execution_count": 27,
   "id": "2524570b",
   "metadata": {},
   "outputs": [
    {
     "data": {
      "text/plain": [
       "Point(x=782, y=585)"
      ]
     },
     "execution_count": 27,
     "metadata": {},
     "output_type": "execute_result"
    }
   ],
   "source": [
    "pyautogui.position()"
   ]
  },
  {
   "cell_type": "code",
   "execution_count": 31,
   "id": "58cb7c04",
   "metadata": {},
   "outputs": [],
   "source": [
    "pyautogui.click(752,745 )                 #opnening snapchat\n",
    "pyautogui.click(772,363, duration= 4)       #camera open\n",
    "\n",
    "\n",
    "#1\n",
    "pyautogui.click(770,551, duration=1)         #click picture\n",
    "pyautogui.click(844,578, duration=1)         #send\n",
    "pyautogui.click(857,289, duration=1)          #1\n",
    "pyautogui.click(860,367, duration=1)          #2\n",
    "pyautogui.click(782,585, duration=1)         #send\n",
    "\n",
    "#2\n",
    "pyautogui.click(770,551, duration=1)         #click picture\n",
    "pyautogui.click(844,578, duration=1)         #send\n",
    "pyautogui.click(857,289, duration=1)          #1\n",
    "pyautogui.click(860,367, duration=1)          #2\n",
    "pyautogui.click(782,585, duration=1)         #send\n",
    "\n",
    "#3\n",
    "pyautogui.click(770,551, duration=1)         #click picture\n",
    "pyautogui.click(844,578, duration=1)         #send\n",
    "pyautogui.click(857,289, duration=1)          #1\n",
    "pyautogui.click(860,367, duration=1)          #2\n",
    "pyautogui.click(782,585, duration=1)         #send\n",
    "\n",
    "#4\n",
    "pyautogui.click(770,551, duration=1)         #click picture\n",
    "pyautogui.click(844,578, duration=1)         #send\n",
    "pyautogui.click(857,289, duration=1)          #1\n",
    "pyautogui.click(860,367, duration=1)          #2\n",
    "pyautogui.click(782,585, duration=1)         #send\n",
    "\n",
    "#5\n",
    "pyautogui.click(770,551, duration=1)         #click picture\n",
    "pyautogui.click(844,578, duration=1)         #send\n",
    "pyautogui.click(857,289, duration=1)          #1\n",
    "pyautogui.click(860,367, duration=1)          #2\n",
    "pyautogui.click(782,585, duration=1)         #send\n",
    "\n",
    "#6\n",
    "pyautogui.click(770,551, duration=1)         #click picture\n",
    "pyautogui.click(844,578, duration=1)         #send\n",
    "pyautogui.click(857,289, duration=1)          #1\n",
    "pyautogui.click(860,367, duration=1)          #2\n",
    "pyautogui.click(782,585, duration=1)         #send\n",
    "\n",
    "#7\n",
    "pyautogui.click(770,551, duration=1)         #click picture\n",
    "pyautogui.click(844,578, duration=1)         #send\n",
    "pyautogui.click(857,289, duration=1)          #1\n",
    "pyautogui.click(860,367, duration=1)          #2\n",
    "pyautogui.click(782,585, duration=1)         #send\n",
    "\n",
    "#8\n",
    "pyautogui.click(770,551, duration=1)         #click picture\n",
    "pyautogui.click(844,578, duration=1)         #send\n",
    "pyautogui.click(857,289, duration=1)          #1\n",
    "pyautogui.click(860,367, duration=1)          #2\n",
    "pyautogui.click(782,585, duration=1)         #send\n",
    "\n",
    "#9\n",
    "pyautogui.click(770,551, duration=1)         #click picture\n",
    "pyautogui.click(844,578, duration=1)         #send\n",
    "pyautogui.click(857,289, duration=1)          #1\n",
    "pyautogui.click(860,367, duration=1)          #2\n",
    "pyautogui.click(782,585, duration=1)         #send\n",
    "\n",
    "#10\n",
    "pyautogui.click(770,551, duration=1)         #click picture\n",
    "pyautogui.click(844,578, duration=1)         #send\n",
    "pyautogui.click(857,289, duration=1)          #1\n",
    "pyautogui.click(860,367, duration=1)          #2\n",
    "pyautogui.click(782,585, duration=1)         #send\n"
   ]
  },
  {
   "cell_type": "code",
   "execution_count": null,
   "id": "1f6a3c5f",
   "metadata": {},
   "outputs": [],
   "source": []
  }
 ],
 "metadata": {
  "kernelspec": {
   "display_name": "Python 3 (ipykernel)",
   "language": "python",
   "name": "python3"
  },
  "language_info": {
   "codemirror_mode": {
    "name": "ipython",
    "version": 3
   },
   "file_extension": ".py",
   "mimetype": "text/x-python",
   "name": "python",
   "nbconvert_exporter": "python",
   "pygments_lexer": "ipython3",
   "version": "3.9.13"
  }
 },
 "nbformat": 4,
 "nbformat_minor": 5
}
