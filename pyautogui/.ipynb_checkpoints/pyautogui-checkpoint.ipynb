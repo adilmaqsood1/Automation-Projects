{
 "cells": [
  {
   "cell_type": "code",
   "execution_count": 1,
   "id": "19534f99",
   "metadata": {},
   "outputs": [
    {
     "name": "stdout",
     "output_type": "stream",
     "text": [
      "Defaulting to user installation because normal site-packages is not writeable\n",
      "Requirement already satisfied: pyautogui in c:\\users\\lenovo\\appdata\\roaming\\python\\python39\\site-packages (0.9.53)\n",
      "Requirement already satisfied: pymsgbox in c:\\users\\lenovo\\appdata\\roaming\\python\\python39\\site-packages (from pyautogui) (1.0.9)\n",
      "Requirement already satisfied: PyTweening>=1.0.1 in c:\\users\\lenovo\\appdata\\roaming\\python\\python39\\site-packages (from pyautogui) (1.0.7)\n",
      "Requirement already satisfied: mouseinfo in c:\\users\\lenovo\\appdata\\roaming\\python\\python39\\site-packages (from pyautogui) (0.1.3)\n",
      "Requirement already satisfied: pyscreeze>=0.1.21 in c:\\users\\lenovo\\appdata\\roaming\\python\\python39\\site-packages (from pyautogui) (0.1.28)\n",
      "Requirement already satisfied: pygetwindow>=0.0.5 in c:\\users\\lenovo\\appdata\\roaming\\python\\python39\\site-packages (from pyautogui) (0.0.9)\n",
      "Requirement already satisfied: pyrect in c:\\users\\lenovo\\appdata\\roaming\\python\\python39\\site-packages (from pygetwindow>=0.0.5->pyautogui) (0.2.0)\n",
      "Requirement already satisfied: pyperclip in c:\\users\\lenovo\\appdata\\roaming\\python\\python39\\site-packages (from mouseinfo->pyautogui) (1.8.2)\n"
     ]
    }
   ],
   "source": [
    "!pip install pyautogui\n"
   ]
  },
  {
   "cell_type": "code",
   "execution_count": 2,
   "id": "c662e447",
   "metadata": {},
   "outputs": [
    {
     "data": {
      "text/plain": [
       "Size(width=1366, height=768)"
      ]
     },
     "execution_count": 2,
     "metadata": {},
     "output_type": "execute_result"
    }
   ],
   "source": [
    "import pyautogui\n",
    "pyautogui.size()\n"
   ]
  },
  {
   "cell_type": "code",
   "execution_count": 20,
   "id": "0de20c35",
   "metadata": {},
   "outputs": [
    {
     "name": "stdout",
     "output_type": "stream",
     "text": [
      "1366 768\n"
     ]
    }
   ],
   "source": [
    "x, y = pyautogui.size()\n",
    "print(x,y)"
   ]
  },
  {
   "cell_type": "code",
   "execution_count": 87,
   "id": "703b06b4",
   "metadata": {},
   "outputs": [
    {
     "data": {
      "text/plain": [
       "Point(x=555, y=686)"
      ]
     },
     "execution_count": 87,
     "metadata": {},
     "output_type": "execute_result"
    }
   ],
   "source": [
    "pyautogui.position()"
   ]
  },
  {
   "cell_type": "code",
   "execution_count": 88,
   "id": "5c2876ca",
   "metadata": {},
   "outputs": [],
   "source": [
    "pyautogui.click(1117,13)\n",
    "pyautogui.click(128, 83)\n",
    "pyautogui.click(392, 129 , duration=2)\n",
    "pyautogui.write('saylani welfare',interval=0.15)\n",
    "pyautogui.press('enter')\n",
    "pyautogui.click(734, 257, duration=2)               #click on saylani page \n",
    "pyautogui.click(760,527, duration=2)                #smit playlist\n",
    "\n",
    "#1\n",
    "pyautogui.click(634,655, duration=2)               #like button\n",
    "pyautogui.click(330,562, duration=10)               #next video \n",
    "\n",
    "#2\n",
    "pyautogui.click(556,653, duration=2)\n",
    "pyautogui.click(258,562, duration=10)\n",
    "\n",
    "#3\n",
    "pyautogui.click(559,651, duration=2)\n",
    "pyautogui.click(263,560, duration=10)\n",
    "\n",
    "#4\n",
    "pyautogui.click(550,684, duration=2)\n",
    "pyautogui.click(261,560, duration=10)\n",
    "\n",
    "#5\n",
    "pyautogui.click(553,664, duration=2)\n",
    "pyautogui.click(260,566, duration=10)\n",
    "\n",
    "#6\n",
    "pyautogui.click(559,656, duration=2)\n",
    "pyautogui.click(261,563, duration=10)\n",
    "\n",
    "#7\n",
    "pyautogui.click(566,662, duration=2)\n",
    "pyautogui.click(257,560, duration=10)\n",
    "\n",
    "#8\n",
    "pyautogui.click(557,693, duration=2)\n",
    "pyautogui.click(256,566, duration=10)\n",
    "\n",
    "#9\n",
    "pyautogui.click(555,685, duration=2)\n",
    "pyautogui.click(264,565, duration=10)\n",
    "\n",
    "#10\n",
    "pyautogui.click(560,691, duration=2)\n",
    "pyautogui.click(263,563, duration=10)\n"
   ]
  },
  {
   "cell_type": "code",
   "execution_count": null,
   "id": "b205654f",
   "metadata": {},
   "outputs": [],
   "source": []
  },
  {
   "cell_type": "code",
   "execution_count": null,
   "id": "3a5c0757",
   "metadata": {},
   "outputs": [],
   "source": []
  }
 ],
 "metadata": {
  "kernelspec": {
   "display_name": "Python 3 (ipykernel)",
   "language": "python",
   "name": "python3"
  },
  "language_info": {
   "codemirror_mode": {
    "name": "ipython",
    "version": 3
   },
   "file_extension": ".py",
   "mimetype": "text/x-python",
   "name": "python",
   "nbconvert_exporter": "python",
   "pygments_lexer": "ipython3",
   "version": "3.9.13"
  }
 },
 "nbformat": 4,
 "nbformat_minor": 5
}
